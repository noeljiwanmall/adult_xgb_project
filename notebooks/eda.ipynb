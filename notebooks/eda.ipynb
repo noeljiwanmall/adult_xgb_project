{
 "cells": [
  {
   "cell_type": "code",
   "execution_count": null,
   "id": "7c34a6ad",
   "metadata": {
    "vscode": {
     "languageId": "plaintext"
    }
   },
   "outputs": [],
   "source": [
    "import pandas"
   ]
  }
 ],
 "metadata": {
  "language_info": {
   "name": "python"
  }
 },
 "nbformat": 4,
 "nbformat_minor": 5
}
